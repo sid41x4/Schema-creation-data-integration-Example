{
 "cells": [
  {
   "cell_type": "markdown",
   "id": "7fde549b",
   "metadata": {},
   "source": [
    "<h1 style=\"color: red; text-align: center\">Schema creation & data integration - Example</h1>\n",
    "<hr width: 5px>\n",
    "<h3>❖ Authors:</h3>\n",
    "<p>TATI Mohammed<br>Ait Ouakour Said</p>\n",
    "<p style=\"text-align: right;\"><b>16-MAR | <span style=\"color: green;\">2023</span></b></p>"
   ]
  },
  {
   "cell_type": "markdown",
   "id": "9d15724d",
   "metadata": {},
   "source": [
    "## Required package"
   ]
  },
  {
   "cell_type": "code",
   "execution_count": 1,
   "id": "c79a0819",
   "metadata": {},
   "outputs": [
    {
     "name": "stdout",
     "output_type": "stream",
     "text": [
      "Requirement already satisfied: mysql-connector-python in c:\\programdata\\anaconda3\\lib\\site-packages (8.0.32)\n",
      "Requirement already satisfied: protobuf<=3.20.3,>=3.11.0 in c:\\programdata\\anaconda3\\lib\\site-packages (from mysql-connector-python) (3.20.3)\n"
     ]
    }
   ],
   "source": [
    "# Installing the connector\n",
    "!pip install mysql-connector-python"
   ]
  },
  {
   "cell_type": "code",
   "execution_count": 2,
   "id": "8ce1da09",
   "metadata": {},
   "outputs": [],
   "source": [
    "# Importing the required library\n",
    "from mysql import connector"
   ]
  },
  {
   "cell_type": "markdown",
   "id": "184b6103",
   "metadata": {},
   "source": [
    "## Needed Functions"
   ]
  },
  {
   "cell_type": "code",
   "execution_count": 3,
   "id": "53e0dd67",
   "metadata": {},
   "outputs": [],
   "source": [
    "def create_db():\n",
    "    \n",
    "    # Making the connection (Make sure MySQL & Apache services are running)\n",
    "    conn = connector.Connect(host=\"localhost\",    # your host, usually localhost\n",
    "                             user=\"root\",         # your username\n",
    "                             port=\"3306\")         # port (3306 default)\n",
    "    # Creating the cursor\n",
    "    cur = conn.cursor()\n",
    "    \n",
    "    # Creating our database\n",
    "    try:\n",
    "        cur.execute(\"CREATE DATABASE club_db\")\n",
    "        cur.execute(\"commit\")\n",
    "        # Closing the connection to the default database\n",
    "        conn.close()\n",
    "    except connector.Error as e:\n",
    "        return e\n",
    "    \n",
    "    # Connecting to the new database\n",
    "    try:\n",
    "        conn = connector.Connect(host=\"localhost\",    # your host, usually localhost\n",
    "                                 user=\"root\",         # your username\n",
    "                                 port=\"3306\",         # port (3306 default)\n",
    "                                 db=\"club_db\")        # name of the database\n",
    "        # Creating the cursor\n",
    "        cur = conn.cursor()\n",
    "        print(\"Connected to club_db\")\n",
    "    \n",
    "        return conn, cur\n",
    "    except connector.Error as e:\n",
    "        return e\n",
    "\n",
    "def create_table(conn, cur):\n",
    "    # Table data\n",
    "    table_name = input('Enter the name of the table: ')\n",
    "    cols_types = input(\"Enter the columns (separeted with comma) with their data types: \")\n",
    "    table_name = table_name.strip()\n",
    "    # Creating the table\n",
    "    try:\n",
    "        cur.execute(\"CREATE TABLE IF NOT EXISTS \"+table_name+\" (\"+cols_types+\");\")\n",
    "        conn.commit()\n",
    "        \n",
    "        return \"Table \"+table_name+\" created!!\"\n",
    "    except connector.Error as e:\n",
    "        return e"
   ]
  },
  {
   "cell_type": "markdown",
   "id": "94fc50ca",
   "metadata": {},
   "source": [
    "## Connecting to the database"
   ]
  },
  {
   "cell_type": "code",
   "execution_count": 4,
   "id": "4e372062",
   "metadata": {},
   "outputs": [
    {
     "name": "stdout",
     "output_type": "stream",
     "text": [
      "Connected to club_db\n"
     ]
    }
   ],
   "source": [
    "# Connecting the club_db database\n",
    "conn, cur = create_db()"
   ]
  },
  {
   "cell_type": "markdown",
   "id": "4a2d48de",
   "metadata": {},
   "source": [
    "## Schema creation"
   ]
  },
  {
   "cell_type": "markdown",
   "id": "7cf8f30e",
   "metadata": {},
   "source": [
    "+ Let's create this database"
   ]
  },
  {
   "cell_type": "markdown",
   "id": "9cd4dbe7",
   "metadata": {},
   "source": [
    "<img src=\"rsc/ER.jpg\" width=\"400\">"
   ]
  },
  {
   "cell_type": "markdown",
   "id": "2528abfe",
   "metadata": {},
   "source": [
    "+ <b>Note</b>:\n",
    "    - When you are creating a database always start with the tables with no constraints (Foreign keys). "
   ]
  },
  {
   "cell_type": "markdown",
   "id": "b8bcb875",
   "metadata": {},
   "source": [
    "<img src=\"rsc/MySQL-Data-Types.jpg\" width=\"400\">"
   ]
  },
  {
   "cell_type": "markdown",
   "id": "5e4c253f",
   "metadata": {},
   "source": [
    "### User table:"
   ]
  },
  {
   "cell_type": "code",
   "execution_count": 5,
   "id": "0c61aa63",
   "metadata": {},
   "outputs": [
    {
     "name": "stdout",
     "output_type": "stream",
     "text": [
      "Enter the name of the table: user\n",
      "Enter the columns (separeted with comma) with their data types:  user_id int PRIMARY KEY, username varchar(50), email varchar(100), password varchar(30)\n"
     ]
    },
    {
     "data": {
      "text/plain": [
       "'Table user created!!'"
      ]
     },
     "execution_count": 5,
     "metadata": {},
     "output_type": "execute_result"
    }
   ],
   "source": [
    "#cols: user_id int PRIMARY KEY, username varchar(50), email varchar(100), password varchar(30)\n",
    "create_table(conn, cur)"
   ]
  },
  {
   "cell_type": "markdown",
   "id": "e0609423",
   "metadata": {},
   "source": [
    "### Product table:"
   ]
  },
  {
   "cell_type": "code",
   "execution_count": 6,
   "id": "755d9154",
   "metadata": {},
   "outputs": [
    {
     "name": "stdout",
     "output_type": "stream",
     "text": [
      "Enter the name of the table: product\n",
      "Enter the columns (separeted with comma) with their data types: product_id int PRIMARY KEY, product_name varchar(50), price double\n"
     ]
    },
    {
     "data": {
      "text/plain": [
       "'Table product created!!'"
      ]
     },
     "execution_count": 6,
     "metadata": {},
     "output_type": "execute_result"
    }
   ],
   "source": [
    "#cols: product_id int PRIMARY KEY, product_name varchar(50), price double\n",
    "create_table(conn, cur)"
   ]
  },
  {
   "cell_type": "markdown",
   "id": "5afbc04f",
   "metadata": {},
   "source": [
    "### Order table:"
   ]
  },
  {
   "cell_type": "code",
   "execution_count": 7,
   "id": "681003e4",
   "metadata": {},
   "outputs": [
    {
     "name": "stdout",
     "output_type": "stream",
     "text": [
      "Enter the name of the table: orders\n",
      "Enter the columns (separeted with comma) with their data types: order_id int PRIMARY KEY, product_id int, user_id int, quantity int, order_date date,FOREIGN KEY (user_id) REFERENCES user(user_id), FOREIGN KEY (product_id) REFERENCES product(product_id)\n"
     ]
    },
    {
     "data": {
      "text/plain": [
       "'Table orders created!!'"
      ]
     },
     "execution_count": 7,
     "metadata": {},
     "output_type": "execute_result"
    }
   ],
   "source": [
    "#cols: order_id int PRIMARY KEY, product_id int, user_id int, quantity int, order_date date,\n",
    "# constraints: FOREIGN KEY (user_id) REFERENCES user(user_id), FOREIGN KEY (product_id) REFERENCES product(product_id)\n",
    "create_table(conn, cur)"
   ]
  },
  {
   "cell_type": "markdown",
   "id": "044bfb7e",
   "metadata": {},
   "source": [
    "## Data integration"
   ]
  },
  {
   "cell_type": "code",
   "execution_count": 8,
   "id": "c1a9334b",
   "metadata": {},
   "outputs": [],
   "source": [
    "# to manipulate the data\n",
    "import pandas as pd"
   ]
  },
  {
   "cell_type": "code",
   "execution_count": 9,
   "id": "e5b06e19",
   "metadata": {},
   "outputs": [
    {
     "data": {
      "text/html": [
       "<div>\n",
       "<style scoped>\n",
       "    .dataframe tbody tr th:only-of-type {\n",
       "        vertical-align: middle;\n",
       "    }\n",
       "\n",
       "    .dataframe tbody tr th {\n",
       "        vertical-align: top;\n",
       "    }\n",
       "\n",
       "    .dataframe thead th {\n",
       "        text-align: right;\n",
       "    }\n",
       "</style>\n",
       "<table border=\"1\" class=\"dataframe\">\n",
       "  <thead>\n",
       "    <tr style=\"text-align: right;\">\n",
       "      <th></th>\n",
       "      <th>user_id</th>\n",
       "      <th>username</th>\n",
       "      <th>email</th>\n",
       "      <th>password</th>\n",
       "    </tr>\n",
       "  </thead>\n",
       "  <tbody>\n",
       "    <tr>\n",
       "      <th>0</th>\n",
       "      <td>1</td>\n",
       "      <td>johndoe</td>\n",
       "      <td>johndoe@example.com</td>\n",
       "      <td>password123</td>\n",
       "    </tr>\n",
       "    <tr>\n",
       "      <th>1</th>\n",
       "      <td>2</td>\n",
       "      <td>janesmith</td>\n",
       "      <td>janesmith@example.com</td>\n",
       "      <td>password456</td>\n",
       "    </tr>\n",
       "    <tr>\n",
       "      <th>2</th>\n",
       "      <td>3</td>\n",
       "      <td>bobwilson</td>\n",
       "      <td>bobwilson@example.com</td>\n",
       "      <td>password789</td>\n",
       "    </tr>\n",
       "  </tbody>\n",
       "</table>\n",
       "</div>"
      ],
      "text/plain": [
       "   user_id   username                  email     password\n",
       "0        1    johndoe    johndoe@example.com  password123\n",
       "1        2  janesmith  janesmith@example.com  password456\n",
       "2        3  bobwilson  bobwilson@example.com  password789"
      ]
     },
     "execution_count": 9,
     "metadata": {},
     "output_type": "execute_result"
    }
   ],
   "source": [
    "user = pd.read_csv('data/user.csv')\n",
    "user"
   ]
  },
  {
   "cell_type": "code",
   "execution_count": 10,
   "id": "6a06a4e9",
   "metadata": {},
   "outputs": [
    {
     "data": {
      "text/html": [
       "<div>\n",
       "<style scoped>\n",
       "    .dataframe tbody tr th:only-of-type {\n",
       "        vertical-align: middle;\n",
       "    }\n",
       "\n",
       "    .dataframe tbody tr th {\n",
       "        vertical-align: top;\n",
       "    }\n",
       "\n",
       "    .dataframe thead th {\n",
       "        text-align: right;\n",
       "    }\n",
       "</style>\n",
       "<table border=\"1\" class=\"dataframe\">\n",
       "  <thead>\n",
       "    <tr style=\"text-align: right;\">\n",
       "      <th></th>\n",
       "      <th>product_id</th>\n",
       "      <th>product_name</th>\n",
       "      <th>price</th>\n",
       "    </tr>\n",
       "  </thead>\n",
       "  <tbody>\n",
       "    <tr>\n",
       "      <th>0</th>\n",
       "      <td>1</td>\n",
       "      <td>Apple iPhone 12</td>\n",
       "      <td>799.52</td>\n",
       "    </tr>\n",
       "    <tr>\n",
       "      <th>1</th>\n",
       "      <td>2</td>\n",
       "      <td>Samsung Galaxy S21</td>\n",
       "      <td>799.96</td>\n",
       "    </tr>\n",
       "    <tr>\n",
       "      <th>2</th>\n",
       "      <td>3</td>\n",
       "      <td>Google Pixel 5</td>\n",
       "      <td>699.99</td>\n",
       "    </tr>\n",
       "  </tbody>\n",
       "</table>\n",
       "</div>"
      ],
      "text/plain": [
       "   product_id        product_name   price\n",
       "0           1     Apple iPhone 12  799.52\n",
       "1           2  Samsung Galaxy S21  799.96\n",
       "2           3      Google Pixel 5  699.99"
      ]
     },
     "execution_count": 10,
     "metadata": {},
     "output_type": "execute_result"
    }
   ],
   "source": [
    "product = pd.read_csv('data/product.csv')\n",
    "product"
   ]
  },
  {
   "cell_type": "code",
   "execution_count": 11,
   "id": "e2678de0",
   "metadata": {},
   "outputs": [
    {
     "data": {
      "text/html": [
       "<div>\n",
       "<style scoped>\n",
       "    .dataframe tbody tr th:only-of-type {\n",
       "        vertical-align: middle;\n",
       "    }\n",
       "\n",
       "    .dataframe tbody tr th {\n",
       "        vertical-align: top;\n",
       "    }\n",
       "\n",
       "    .dataframe thead th {\n",
       "        text-align: right;\n",
       "    }\n",
       "</style>\n",
       "<table border=\"1\" class=\"dataframe\">\n",
       "  <thead>\n",
       "    <tr style=\"text-align: right;\">\n",
       "      <th></th>\n",
       "      <th>order_id</th>\n",
       "      <th>product_id</th>\n",
       "      <th>user_id</th>\n",
       "      <th>quantity</th>\n",
       "      <th>order_date</th>\n",
       "    </tr>\n",
       "  </thead>\n",
       "  <tbody>\n",
       "    <tr>\n",
       "      <th>0</th>\n",
       "      <td>1</td>\n",
       "      <td>2</td>\n",
       "      <td>1</td>\n",
       "      <td>1</td>\n",
       "      <td>2022-01-01</td>\n",
       "    </tr>\n",
       "    <tr>\n",
       "      <th>1</th>\n",
       "      <td>2</td>\n",
       "      <td>3</td>\n",
       "      <td>2</td>\n",
       "      <td>5</td>\n",
       "      <td>2022-01-02</td>\n",
       "    </tr>\n",
       "    <tr>\n",
       "      <th>2</th>\n",
       "      <td>3</td>\n",
       "      <td>1</td>\n",
       "      <td>1</td>\n",
       "      <td>15</td>\n",
       "      <td>2022-01-03</td>\n",
       "    </tr>\n",
       "  </tbody>\n",
       "</table>\n",
       "</div>"
      ],
      "text/plain": [
       "   order_id  product_id  user_id  quantity  order_date\n",
       "0         1           2        1         1  2022-01-01\n",
       "1         2           3        2         5  2022-01-02\n",
       "2         3           1        1        15  2022-01-03"
      ]
     },
     "execution_count": 11,
     "metadata": {},
     "output_type": "execute_result"
    }
   ],
   "source": [
    "order = pd.read_csv('data/order.csv')\n",
    "order"
   ]
  },
  {
   "cell_type": "code",
   "execution_count": 12,
   "id": "fdcc1cdc",
   "metadata": {},
   "outputs": [],
   "source": [
    "# Query to insert the data into user table\n",
    "into_user = \"INSERT INTO user(user_id, username, email, password) VALUES(%s, %s, %s, %s)\"\n",
    "\n",
    "# Query to insert the data into product table\n",
    "into_product = \"INSERT INTO product(product_id, product_name, price) VALUES(%s, %s, %s)\"\n",
    "\n",
    "# Query to insert the data into orders table\n",
    "into_orders = \"INSERT INTO orders(order_id, product_id, user_id, quantity, order_date) VALUES(%s, %s, %s, %s, %s)\""
   ]
  },
  {
   "cell_type": "markdown",
   "id": "2ea8e229",
   "metadata": {},
   "source": [
    "### Iterrows method"
   ]
  },
  {
   "cell_type": "code",
   "execution_count": 13,
   "id": "314f298d",
   "metadata": {},
   "outputs": [
    {
     "name": "stdout",
     "output_type": "stream",
     "text": [
      "0 [1, 'Apple iPhone 12', 799.52]\n",
      "1 [2, 'Samsung Galaxy S21', 799.96]\n",
      "2 [3, 'Google Pixel 5', 699.99]\n"
     ]
    }
   ],
   "source": [
    "for i, row in product.iterrows():\n",
    "    print(i, list(row))"
   ]
  },
  {
   "cell_type": "markdown",
   "id": "dd8de4ac",
   "metadata": {},
   "source": [
    "### Inserting the product data"
   ]
  },
  {
   "cell_type": "code",
   "execution_count": 14,
   "id": "59dc94b6",
   "metadata": {},
   "outputs": [],
   "source": [
    "for i, row in product.iterrows():\n",
    "    cur.execute(into_product, list(row))\n",
    "\n",
    "# Saving\n",
    "conn.commit()"
   ]
  },
  {
   "cell_type": "markdown",
   "id": "fdd95e57",
   "metadata": {},
   "source": [
    "### Inserting the user data"
   ]
  },
  {
   "cell_type": "code",
   "execution_count": 15,
   "id": "e1fc9580",
   "metadata": {},
   "outputs": [],
   "source": [
    "for i, row in user.iterrows():\n",
    "    cur.execute(into_user, list(row))\n",
    "\n",
    "# Saving\n",
    "conn.commit()"
   ]
  },
  {
   "cell_type": "markdown",
   "id": "20b6d9d2",
   "metadata": {},
   "source": [
    "### Inserting the orders data"
   ]
  },
  {
   "cell_type": "code",
   "execution_count": 16,
   "id": "0b7d6201",
   "metadata": {},
   "outputs": [],
   "source": [
    "for i, row in order.iterrows():\n",
    "    cur.execute(into_orders, list(row))\n",
    "\n",
    "# Saving\n",
    "conn.commit()"
   ]
  },
  {
   "cell_type": "markdown",
   "id": "b0600a48",
   "metadata": {},
   "source": [
    "## Closing the connection"
   ]
  },
  {
   "cell_type": "code",
   "execution_count": 17,
   "id": "e16df739",
   "metadata": {},
   "outputs": [],
   "source": [
    "conn.close()"
   ]
  },
  {
   "cell_type": "markdown",
   "id": "c4d44c7c",
   "metadata": {},
   "source": [
    "<hr>\n",
    "<p style=\"text-align: right\">Schema creation & data integration - Example | <span style=\"color: green\">Successfuly Completed</span></p>"
   ]
  }
 ],
 "metadata": {
  "kernelspec": {
   "display_name": "Python 3 (ipykernel)",
   "language": "python",
   "name": "python3"
  },
  "language_info": {
   "codemirror_mode": {
    "name": "ipython",
    "version": 3
   },
   "file_extension": ".py",
   "mimetype": "text/x-python",
   "name": "python",
   "nbconvert_exporter": "python",
   "pygments_lexer": "ipython3",
   "version": "3.9.7"
  }
 },
 "nbformat": 4,
 "nbformat_minor": 5
}
